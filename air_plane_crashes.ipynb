{
 "cells": [
  {
   "cell_type": "code",
   "execution_count": 1,
   "metadata": {},
   "outputs": [],
   "source": [
    "import pandas as pd\n"
   ]
  },
  {
   "cell_type": "code",
   "execution_count": 2,
   "metadata": {},
   "outputs": [],
   "source": [
    "df = pd.read_csv(r'C:\\Users\\msaji\\Desktop\\Tableau Visualization\\Airplane Crashes\\FinalDatasetAirplaneCrashes2019.csv', encoding='latin-1')\n"
   ]
  },
  {
   "cell_type": "code",
   "execution_count": 300,
   "metadata": {},
   "outputs": [],
   "source": [
    "def bucket_crashes(row):\n",
    "    element = row\n",
    "    element = element.lower()\n",
    "    if 'crashed' in element or 'crashing' in element:\n",
    "        if 'attempting to land' in element:\n",
    "            if 'shot down' in element:\n",
    "                return 'Shot Down'\n",
    "            elif any(n in element for n in ['weather', 'fog', 'heavy rain','downdraft', 'lightning','visibility','thunderstorm','thunderstorms','snow', 'storm','turbulence']):\n",
    "                return 'Crashed - Bad Weather'\n",
    "            else:\n",
    "                return 'Crashed - Attempting to land'\n",
    "        elif any(n in element for n in ['weather', 'fog', 'heavy rain','downdraft', 'lightning','visibility','thunderstorm','thunderstorms','snow', 'storm','turbulence']):\n",
    "            return 'Crashed - Bad Weather'          \n",
    "        elif 'engine failure' in element or 'engine failed' in element or ('loss of' in element and 'engine' in element) or 'engine trouble' in element:\n",
    "            return 'Crashed - Engine Failure'\n",
    "        elif 'pilot error' in element or 'navigation error' in element:\n",
    "            return 'Crashed - Human Error'\n",
    "        elif 'emergency landing' in element:\n",
    "            return 'Crashed - Emergency Landing'\n",
    "        elif 'shot down' in element:\n",
    "            return 'Shot Down'      \n",
    "        elif 'and exploded' in element:\n",
    "            return 'Crashed - Unknown Circumstances'\n",
    "        elif 'and collided with runway'in element:\n",
    "            return 'Crashed - Unknown Circumstances'\n",
    "        elif 'pilot error' in element or 'procedural error' in element:\n",
    "            return 'Crashed - Human Error'\n",
    "        else:\n",
    "            return 'Crashed - Unknown Circumstances'\n",
    "    elif 'shot down'in  element:\n",
    "        return 'Shot Down'\n",
    "    elif 'engine failure'in element or ('failure of' in element and 'engine' in element) or 'lost an engine' in element:\n",
    "        return 'Crashed - Engine Failure'\n",
    "    elif 'exploded' in element:\n",
    "        return 'Crashed - Explosion'\n",
    "    elif 'struck' in element and ('poor visibility' in element or 'weather conditions' in element):\n",
    "        return 'Crashed - Bad Weather'\n",
    "    elif 'mismanagement of fuel' in element:\n",
    "        return 'Crashed - Human Error'\n",
    "    elif 'disappeared' in  element:\n",
    "        return 'Disappeared'\n",
    "    elif 'loss of control'in element or 'controls jambed' in element or 'out of control' in element or 'lost control' in element:\n",
    "        return 'Crashed - Loss of control'\n",
    "    elif 'midair collision' in element:\n",
    "        return 'Aircraft Collision'\n",
    "    elif 'struck' in element or 'plunged' in element:\n",
    "        return 'Crashed - Unknown Circumstances'\n",
    "    elif 'null' in element :\n",
    "        return 'No Data Available'\n",
    "    else:\n",
    "        return 'Other'\n"
   ]
  },
  {
   "cell_type": "code",
   "execution_count": null,
   "metadata": {},
   "outputs": [],
   "source": [
    "def keywords_search(keyword_list, sentence):\n",
    "    return any(map(lambda word: word in sentence, keyword_list))\n"
   ]
  },
  {
   "cell_type": "code",
   "execution_count": 26,
   "metadata": {},
   "outputs": [],
   "source": [
    "def get_source(x):\n",
    "    if x != 'NULL' and x not in ['Training', 'Sightseeing', 'Demonstration', 'Air Show', 'Test flight'] and ' - ' in x:\n",
    "        return x.split(\" - \")[0]\n",
    "    else:\n",
    "        return ''"
   ]
  },
  {
   "cell_type": "code",
   "execution_count": 27,
   "metadata": {},
   "outputs": [],
   "source": [
    "def get_destination(x):\n",
    "    if x != 'NULL' and x not in ['Training', 'Sightseeing', 'Demonstration', 'Air Show', 'Test flight'] and ' - ' in x:\n",
    "        return x.split(\" - \")[-1]"
   ]
  },
  {
   "cell_type": "code",
   "execution_count": 28,
   "metadata": {},
   "outputs": [],
   "source": [
    "df['Route'] = df['Route'].fillna(value='NULL')\n",
    "df['Source'] = df['Route'].apply(lambda x: get_source(x))\n",
    "df['Destination'] = df['Route'].apply(lambda x: get_destination(x))"
   ]
  },
  {
   "cell_type": "code",
   "execution_count": 301,
   "metadata": {},
   "outputs": [],
   "source": [
    "df['Summary'] = df['Summary'].fillna(value='NULL')"
   ]
  },
  {
   "cell_type": "code",
   "execution_count": 302,
   "metadata": {},
   "outputs": [],
   "source": [
    "df['Reason'] = df['Summary'].apply(lambda x: bucket_crashes(x))\n",
    "df.to_csv(r'C:\\Users\\msaji\\Desktop\\Tableau Visualization\\Airplane Crashes\\FinalDatasetAirplaneCrashes2019.csv', index=None)\n"
   ]
  }
 ],
 "metadata": {
  "kernelspec": {
   "display_name": "Python 3",
   "language": "python",
   "name": "python3"
  },
  "language_info": {
   "codemirror_mode": {
    "name": "ipython",
    "version": 3
   },
   "file_extension": ".py",
   "mimetype": "text/x-python",
   "name": "python",
   "nbconvert_exporter": "python",
   "pygments_lexer": "ipython3",
   "version": "3.6.7"
  }
 },
 "nbformat": 4,
 "nbformat_minor": 2
}
